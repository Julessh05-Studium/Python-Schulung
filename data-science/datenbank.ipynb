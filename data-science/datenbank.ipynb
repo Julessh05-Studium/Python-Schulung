{
 "cells": [
  {
   "cell_type": "markdown",
   "metadata": {},
   "source": [
    "Unsere Analyse"
   ]
  },
  {
   "cell_type": "code",
   "metadata": {
    "ExecuteTime": {
     "end_time": "2025-03-19T09:50:20.582428Z",
     "start_time": "2025-03-19T09:50:20.389236Z"
    }
   },
   "source": [
    "import pandas as pd\n",
    "import numpy as np\n",
    "import matplotlib"
   ],
   "outputs": [],
   "execution_count": 1
  },
  {
   "cell_type": "markdown",
   "metadata": {},
   "source": [
    "^^imports"
   ]
  },
  {
   "cell_type": "code",
   "metadata": {
    "ExecuteTime": {
     "end_time": "2025-03-19T09:50:49.145605Z",
     "start_time": "2025-03-19T09:50:48.337981Z"
    }
   },
   "source": [
    "import glob\n",
    "import os\n",
    "\n",
    "folder_path = r'/data_for_generation'\n",
    "csv_file_paths = glob.glob(os.path.join(folder_path, 'rad_*.csv'))\n",
    "\n",
    "data_files_day = []\n",
    "data_files_15min = []\n",
    "for file_path in csv_file_paths:\n",
    "    data_file = pd.read_csv(file_path)\n",
    "    if '15min' in file_path:\n",
    "        data_files_15min.append(data_file)\n",
    "    else:\n",
    "        data_files_day.append(data_file)\n",
    "\n",
    "data_files_day = pd.concat(data_files_day, ignore_index=True)\n",
    "data_files_15min = pd.concat(data_files_15min, ignore_index=True)"
   ],
   "outputs": [
    {
     "name": "stderr",
     "output_type": "stream",
     "text": [
      "/var/folders/nc/k5dmj9_x14qb8440h5d2p7j80000gn/T/ipykernel_35167/2891001303.py:10: DtypeWarning: Columns (7) have mixed types. Specify dtype option on import or set low_memory=False.\n",
      "  data_file = pd.read_csv(file_path)\n",
      "/var/folders/nc/k5dmj9_x14qb8440h5d2p7j80000gn/T/ipykernel_35167/2891001303.py:10: DtypeWarning: Columns (7) have mixed types. Specify dtype option on import or set low_memory=False.\n",
      "  data_file = pd.read_csv(file_path)\n",
      "/var/folders/nc/k5dmj9_x14qb8440h5d2p7j80000gn/T/ipykernel_35167/2891001303.py:10: DtypeWarning: Columns (8) have mixed types. Specify dtype option on import or set low_memory=False.\n",
      "  data_file = pd.read_csv(file_path)\n",
      "/var/folders/nc/k5dmj9_x14qb8440h5d2p7j80000gn/T/ipykernel_35167/2891001303.py:10: DtypeWarning: Columns (7) have mixed types. Specify dtype option on import or set low_memory=False.\n",
      "  data_file = pd.read_csv(file_path)\n",
      "/var/folders/nc/k5dmj9_x14qb8440h5d2p7j80000gn/T/ipykernel_35167/2891001303.py:10: DtypeWarning: Columns (7) have mixed types. Specify dtype option on import or set low_memory=False.\n",
      "  data_file = pd.read_csv(file_path)\n",
      "/var/folders/nc/k5dmj9_x14qb8440h5d2p7j80000gn/T/ipykernel_35167/2891001303.py:10: DtypeWarning: Columns (7) have mixed types. Specify dtype option on import or set low_memory=False.\n",
      "  data_file = pd.read_csv(file_path)\n",
      "/var/folders/nc/k5dmj9_x14qb8440h5d2p7j80000gn/T/ipykernel_35167/2891001303.py:10: DtypeWarning: Columns (7) have mixed types. Specify dtype option on import or set low_memory=False.\n",
      "  data_file = pd.read_csv(file_path)\n",
      "/var/folders/nc/k5dmj9_x14qb8440h5d2p7j80000gn/T/ipykernel_35167/2891001303.py:10: DtypeWarning: Columns (7) have mixed types. Specify dtype option on import or set low_memory=False.\n",
      "  data_file = pd.read_csv(file_path)\n"
     ]
    }
   ],
   "execution_count": 3
  },
  {
   "cell_type": "code",
   "metadata": {
    "ExecuteTime": {
     "end_time": "2025-03-19T09:50:55.927790Z",
     "start_time": "2025-03-19T09:50:55.896299Z"
    }
   },
   "source": [
    "print(data_files_day['kommentar'].value_counts())\n",
    "print(data_files_15min['kommentar'].value_counts())"
   ],
   "outputs": [
    {
     "name": "stdout",
     "output_type": "stream",
     "text": [
      "kommentar\n",
      "Zählstelle noch nicht in Betrieb                                          1028\n",
      "Baustelle                                                                  609\n",
      "Ausfall nach BeschÃ¤digung                                                 118\n",
      "Ausfall nach Beschädigung                                                   82\n",
      "Radweg vereist / nach Schneefall nicht geräumt / keine Messung möglich      48\n",
      "Ausfall                                                                     38\n",
      "Ausfall, baustellenbedingte Demontage                                       10\n",
      "Austausch Sensor                                                             2\n",
      "Name: count, dtype: int64\n",
      "kommentar\n",
      "ZÃ¤hlstelle noch nicht in Betrieb                                           98688\n",
      "Baustelle                                                                   56928\n",
      "Ausfall nach Beschädigung                                                   18874\n",
      "Radweg vereist / nach Schneefall nicht gerÃ¤umt / keine Messung mÃ¶glich     4608\n",
      "Ausfall, baustellenbedingte Demontage                                        1018\n",
      "Ausfall nach BeschÃ¤digung                                                    192\n",
      "Name: count, dtype: int64\n"
     ]
    }
   ],
   "execution_count": 4
  },
  {
   "cell_type": "code",
   "metadata": {
    "ExecuteTime": {
     "end_time": "2025-03-19T09:53:28.176927Z",
     "start_time": "2025-03-19T09:53:24.485085Z"
    }
   },
   "source": [
    "data_files_day = data_files_day[data_files_day['kommentar'].isna()]\n",
    "data_files_15min = data_files_15min[data_files_15min['kommentar'].isna()]\n",
    "data_files_day.to_csv('export/days_filtered.csv')\n",
    "data_files_15min.to_csv('export/15min_filtered.csv')"
   ],
   "outputs": [],
   "execution_count": 6
  },
  {
   "cell_type": "markdown",
   "metadata": {},
   "source": [
    "Jetzt sind in data_files_day die gefilterten Daten fuer die Tagesdaten\n",
    "und in data_files_15min die gefilterten Daten fuer die 15-Minuten-Daten."
   ]
  }
 ],
 "metadata": {
  "kernelspec": {
   "display_name": "Python 3",
   "language": "python",
   "name": "python3"
  },
  "language_info": {
   "codemirror_mode": {
    "name": "ipython",
    "version": 3
   },
   "file_extension": ".py",
   "mimetype": "text/x-python",
   "name": "python",
   "nbconvert_exporter": "python",
   "pygments_lexer": "ipython3",
   "version": "3.12.6"
  }
 },
 "nbformat": 4,
 "nbformat_minor": 2
}
