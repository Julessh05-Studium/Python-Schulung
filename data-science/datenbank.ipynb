{
 "cells": [
  {
   "cell_type": "markdown",
   "metadata": {},
   "source": [
    "Unsere Analyse"
   ]
  },
  {
   "cell_type": "code",
   "metadata": {
    "jupyter": {
     "is_executing": true
    }
   },
   "source": [
    "import pandas as pd\n",
    "import numpy as np\n",
    "import matplotlib"
   ],
   "outputs": [],
   "execution_count": null
  },
  {
   "cell_type": "markdown",
   "metadata": {},
   "source": [
    "^^imports"
   ]
  },
  {
   "cell_type": "code",
   "execution_count": null,
   "metadata": {},
   "outputs": [
    {
     "name": "stderr",
     "output_type": "stream",
     "text": [
      "C:\\Users\\User\\AppData\\Local\\Temp\\ipykernel_14656\\3555061966.py:10: DtypeWarning: Columns (7) have mixed types. Specify dtype option on import or set low_memory=False.\n",
      "  data_file = pd.read_csv(file_path)\n",
      "C:\\Users\\User\\AppData\\Local\\Temp\\ipykernel_14656\\3555061966.py:10: DtypeWarning: Columns (7) have mixed types. Specify dtype option on import or set low_memory=False.\n",
      "  data_file = pd.read_csv(file_path)\n",
      "C:\\Users\\User\\AppData\\Local\\Temp\\ipykernel_14656\\3555061966.py:10: DtypeWarning: Columns (7) have mixed types. Specify dtype option on import or set low_memory=False.\n",
      "  data_file = pd.read_csv(file_path)\n",
      "C:\\Users\\User\\AppData\\Local\\Temp\\ipykernel_14656\\3555061966.py:10: DtypeWarning: Columns (7) have mixed types. Specify dtype option on import or set low_memory=False.\n",
      "  data_file = pd.read_csv(file_path)\n",
      "C:\\Users\\User\\AppData\\Local\\Temp\\ipykernel_14656\\3555061966.py:10: DtypeWarning: Columns (7) have mixed types. Specify dtype option on import or set low_memory=False.\n",
      "  data_file = pd.read_csv(file_path)\n",
      "C:\\Users\\User\\AppData\\Local\\Temp\\ipykernel_14656\\3555061966.py:10: DtypeWarning: Columns (7) have mixed types. Specify dtype option on import or set low_memory=False.\n",
      "  data_file = pd.read_csv(file_path)\n",
      "C:\\Users\\User\\AppData\\Local\\Temp\\ipykernel_14656\\3555061966.py:10: DtypeWarning: Columns (7) have mixed types. Specify dtype option on import or set low_memory=False.\n",
      "  data_file = pd.read_csv(file_path)\n",
      "C:\\Users\\User\\AppData\\Local\\Temp\\ipykernel_14656\\3555061966.py:10: DtypeWarning: Columns (7) have mixed types. Specify dtype option on import or set low_memory=False.\n",
      "  data_file = pd.read_csv(file_path)\n"
     ]
    },
    {
     "name": "stdout",
     "output_type": "stream",
     "text": [
      "Index(['datum', 'zaehlstelle', 'uhrzeit_start', 'uhrzeit_ende', 'richtung_1',\n",
      "       'richtung_2', 'gesamt', 'min.temp', 'max.temp', 'niederschlag',\n",
      "       'bewoelkung', 'sonnenstunden', 'kommentar'],\n",
      "      dtype='object')\n",
      "Index(['datum', 'uhrzeit_start', 'uhrzeit_ende', 'zaehlstelle', 'richtung_1',\n",
      "       'richtung_2', 'gesamt', 'kommentar'],\n",
      "      dtype='object')\n"
     ]
    }
   ],
   "source": [
    "import glob\n",
    "import os\n",
    "\n",
    "folder_path = r'/data_for_generation'\n",
    "csv_file_paths = glob.glob(os.path.join(folder_path, 'rad_*.csv'))\n",
    "\n",
    "data_files_day = []\n",
    "data_files_15min = []\n",
    "for file_path in csv_file_paths:\n",
    "    data_file = pd.read_csv(file_path)\n",
    "    if '15min' in file_path:\n",
    "        data_files_15min.append(data_file)\n",
    "    else:\n",
    "        data_files_day.append(data_file)\n",
    "\n",
    "data_files_day = pd.concat(data_files_day, ignore_index=True)\n",
    "data_files_15min = pd.concat(data_files_15min, ignore_index=True)"
   ]
  },
  {
   "cell_type": "code",
   "execution_count": 38,
   "metadata": {},
   "outputs": [
    {
     "name": "stdout",
     "output_type": "stream",
     "text": [
      "kommentar\n",
      "Zählstelle noch nicht in Betrieb                                          1028\n",
      "Baustelle                                                                  609\n",
      "Ausfall nach Beschädigung                                                  200\n",
      "Radweg vereist / nach Schneefall nicht geräumt / keine Messung möglich      48\n",
      "Ausfall                                                                     38\n",
      "Ausfall, baustellenbedingte Demontage                                       10\n",
      "Austausch Sensor                                                             2\n",
      "Name: count, dtype: int64\n",
      "kommentar\n",
      "Zählstelle noch nicht in Betrieb                                          95712\n",
      "Baustelle                                                                 56928\n",
      "Ausfall nach Beschädigung                                                 19066\n",
      "Radweg vereist / nach Schneefall nicht geräumt / keine Messung möglich     4608\n",
      "Ausfall, baustellenbedingte Demontage                                      1018\n",
      "Austausch Sensor                                                            192\n",
      "Name: count, dtype: int64\n"
     ]
    }
   ],
   "source": [
    "print(data_files_day['kommentar'].value_counts())\n",
    "print(data_files_15min['kommentar'].value_counts())"
   ]
  },
  {
   "cell_type": "code",
   "execution_count": 39,
   "metadata": {},
   "outputs": [],
   "source": [
    "data_files_day = data_files_day[data_files_day['kommentar'].isna()]\n",
    "data_files_15min = data_files_15min[data_files_15min['kommentar'].isna()]"
   ]
  },
  {
   "cell_type": "markdown",
   "metadata": {},
   "source": [
    "Jetzt sind in data_files_day die gefilterten Daten fuer die Tagesdaten\n",
    "und in data_files_15min die gefilterten Daten fuer die 15-Minuten-Daten."
   ]
  }
 ],
 "metadata": {
  "kernelspec": {
   "display_name": "Python 3",
   "language": "python",
   "name": "python3"
  },
  "language_info": {
   "codemirror_mode": {
    "name": "ipython",
    "version": 3
   },
   "file_extension": ".py",
   "mimetype": "text/x-python",
   "name": "python",
   "nbconvert_exporter": "python",
   "pygments_lexer": "ipython3",
   "version": "3.12.6"
  }
 },
 "nbformat": 4,
 "nbformat_minor": 2
}
